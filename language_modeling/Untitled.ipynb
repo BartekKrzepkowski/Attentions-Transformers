{
 "cells": [
  {
   "cell_type": "code",
   "execution_count": 1,
   "id": "certain-following",
   "metadata": {},
   "outputs": [],
   "source": [
    "%load_ext autoreload\n",
    "%autoreload 2"
   ]
  },
  {
   "cell_type": "code",
   "execution_count": 2,
   "id": "piano-beijing",
   "metadata": {},
   "outputs": [],
   "source": [
    "import torch\n",
    "from torch import nn"
   ]
  },
  {
   "cell_type": "code",
   "execution_count": 3,
   "id": "empty-victorian",
   "metadata": {},
   "outputs": [],
   "source": [
    "from attention import Attention"
   ]
  },
  {
   "cell_type": "code",
   "execution_count": 9,
   "id": "polyphonic-clinic",
   "metadata": {},
   "outputs": [],
   "source": [
    "att = Attention(att_type='dot', hidden_dim=50)"
   ]
  },
  {
   "cell_type": "code",
   "execution_count": 10,
   "id": "difficult-duncan",
   "metadata": {},
   "outputs": [],
   "source": [
    "queries = torch.randn((32, 4, 50))"
   ]
  },
  {
   "cell_type": "code",
   "execution_count": 11,
   "id": "endless-jungle",
   "metadata": {},
   "outputs": [
    {
     "data": {
      "text/plain": [
       "torch.Size([32, 4, 50])"
      ]
     },
     "execution_count": 11,
     "metadata": {},
     "output_type": "execute_result"
    }
   ],
   "source": [
    "queries.shape"
   ]
  },
  {
   "cell_type": "code",
   "execution_count": 12,
   "id": "charitable-french",
   "metadata": {},
   "outputs": [],
   "source": [
    "o = att(queries)"
   ]
  },
  {
   "cell_type": "code",
   "execution_count": 13,
   "id": "simplified-nevada",
   "metadata": {},
   "outputs": [
    {
     "data": {
      "text/plain": [
       "torch.Size([32, 1, 50])"
      ]
     },
     "execution_count": 13,
     "metadata": {},
     "output_type": "execute_result"
    }
   ],
   "source": [
    "o.shape"
   ]
  },
  {
   "cell_type": "code",
   "execution_count": 103,
   "id": "hazardous-luxury",
   "metadata": {},
   "outputs": [],
   "source": [
    "import numpy as np\n",
    "import matplotlib.pyplot as plt\n",
    "from scipy.special import softmax"
   ]
  },
  {
   "cell_type": "code",
   "execution_count": 122,
   "id": "b2abe50e-be9f-44b7-a098-99186a4b1518",
   "metadata": {},
   "outputs": [],
   "source": [
    "m = np.random.normal(size=(512, 512))*1e-2\n",
    "# m = m @ m.T\n",
    "m = softmax(m)\n",
    "s = np.linalg.svd(m, compute_uv=False)"
   ]
  },
  {
   "cell_type": "code",
   "execution_count": 123,
   "id": "4747c175-2505-482c-b351-52f4fb474b77",
   "metadata": {},
   "outputs": [
    {
     "data": {
      "text/plain": [
       "[<matplotlib.lines.Line2D at 0x7f0e06146970>]"
      ]
     },
     "execution_count": 123,
     "metadata": {},
     "output_type": "execute_result"
    },
    {
     "data": {
      "image/png": "[encoded data removed]",
      "text/plain": [
       "<Figure size 432x288 with 1 Axes>"
      ]
     },
     "metadata": {
      "needs_background": "light"
     },
     "output_type": "display_data"
    }
   ],
   "source": [
    "plt.plot(s)"
   ]
  },
  {
   "cell_type": "code",
   "execution_count": 124,
   "id": "0cf0af91-54f5-4c06-9257-f0760060ad83",
   "metadata": {},
   "outputs": [
    {
     "data": {
      "text/plain": [
       "512"
      ]
     },
     "execution_count": 124,
     "metadata": {},
     "output_type": "execute_result"
    }
   ],
   "source": [
    "np.linalg.matrix_rank(m)"
   ]
  },
  {
   "cell_type": "code",
   "execution_count": 125,
   "id": "fad40443-7e07-4525-9d8d-b8b47fe2f93c",
   "metadata": {},
   "outputs": [
    {
     "data": {
      "text/plain": [
       "<matplotlib.collections.LineCollection at 0x7f0e060bc0a0>"
      ]
     },
     "execution_count": 125,
     "metadata": {},
     "output_type": "execute_result"
    },
    {
     "data": {
      "image/png": "[encoded data removed]",
      "text/plain": [
       "<Figure size 432x288 with 1 Axes>"
      ]
     },
     "metadata": {
      "needs_background": "light"
     },
     "output_type": "display_data"
    }
   ],
   "source": [
    "plt.plot(np.cumsum([0, *s/s.sum()]))\n",
    "plt.vlines(128, 0, 1, colors='k')"
   ]
  },
  {
   "cell_type": "code",
   "execution_count": null,
   "id": "0e116b15-a8a0-4d01-adcf-b6c69db08dae",
   "metadata": {},
   "outputs": [],
   "source": []
  }
 ],
 "metadata": {
  "kernelspec": {
   "display_name": "tldl",
   "language": "python",
   "name": "tldl"
  },
  "language_info": {
   "codemirror_mode": {
    "name": "ipython",
    "version": 3
   },
   "file_extension": ".py",
   "mimetype": "text/x-python",
   "name": "python",
   "nbconvert_exporter": "python",
   "pygments_lexer": "ipython3",
   "version": "3.8.10"
  }
 },
 "nbformat": 4,
 "nbformat_minor": 5
}
