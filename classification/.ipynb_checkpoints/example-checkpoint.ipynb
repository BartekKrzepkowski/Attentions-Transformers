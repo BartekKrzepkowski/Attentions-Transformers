{
 "cells": [
  {
   "cell_type": "code",
   "execution_count": null,
   "id": "copyrighted-remainder",
   "metadata": {},
   "outputs": [],
   "source": [
    "%load_ext autoreload\n",
    "%autoreload 2\n",
    "%load_ext tensorboard"
   ]
  },
  {
   "cell_type": "code",
   "execution_count": null,
   "id": "prescribed-pickup",
   "metadata": {},
   "outputs": [],
   "source": [
    "%matplotlib inline\n",
    "\n",
    "import torch\n",
    "import torch.nn as nn\n",
    "import torch.optim as optim\n",
    "device = torch.device('cuda:0' if torch.cuda.is_available() else 'cpu')"
   ]
  },
  {
   "cell_type": "code",
   "execution_count": null,
   "id": "standard-lindsay",
   "metadata": {},
   "outputs": [],
   "source": [
    "from datasets import IMDBTrain, IMDBTest\n",
    "from nlp_cls_trainer import Trainer, IteratorParams\n",
    "from models import Transformer_Custom\n",
    "from utils import loaders_from_dataset"
   ]
  },
  {
   "cell_type": "code",
   "execution_count": null,
   "id": "selective-butter",
   "metadata": {
    "tags": []
   },
   "outputs": [],
   "source": [
    "loaders = lambda batch_size, val_perc_size: loaders_from_dataset(IMDBTrain(), IMDBTest(), batch_size, val_perc_size)\n",
    "\n",
    "params_clearml = {\n",
    "\n",
    "}\n",
    "\n",
    "DATASET_NAME = 'imdb_try'\n",
    "params_trainer = {\n",
    "    'model': Transformer_Custom,\n",
    "    'loaders': loaders,\n",
    "    'criterion': torch.nn.BCEWithLogitsLoss,\n",
    "    'optim': torch.optim.AdamW,\n",
    "    'scheduler': torch.optim.lr_scheduler.CosineAnnealingLR,\n",
    "    'params_clearml': params_clearml,\n",
    "    'is_tensorboard': True\n",
    "}\n",
    "\n",
    "trainer = Trainer(**params_trainer)"
   ]
  },
  {
   "cell_type": "code",
   "execution_count": null,
   "id": "direct-manitoba",
   "metadata": {},
   "outputs": [],
   "source": [
    "%tensorboard --logdir=data"
   ]
  },
  {
   "cell_type": "code",
   "execution_count": null,
   "id": "creative-ordering",
   "metadata": {
    "tags": []
   },
   "outputs": [],
   "source": [
    "vocab_size = len(IMDBTest().word2index)\n",
    "model_ls = [{'vocab_size': vocab_size, 'emb_dim': 64}]\n",
    "loaders_ls = [{'batch_size':32, 'val_perc_size': 0.0}]\n",
    "criterion_ls = [{}]\n",
    "optim_ls = [{'lr': 0.05, 'weight_decay': 0.001}]\n",
    "scheduler_ls = [{'T_max':300}]\n",
    "\n",
    "iter_params = IteratorParams(model_ls, loaders_ls, criterion_ls, optim_ls, scheduler_ls)\n",
    "\n",
    "params_runs = {\n",
    "    'iter_params': iter_params,\n",
    "    'epochs': 100,\n",
    "    'exp_name': f'{DATASET_NAME}',\n",
    "    'val_step': 5,\n",
    "    'verbose': False,\n",
    "    'checkpoint_save_step': 25, \n",
    "    'device': device\n",
    "}\n",
    "\n",
    "trainer.run_trainer(**params_runs)"
   ]
  },
  {
   "cell_type": "code",
   "execution_count": null,
   "id": "surprising-conference",
   "metadata": {},
   "outputs": [],
   "source": [
    "import matplotlib.pyplot as plt\n",
    "plt.figure(figsize=(10,10))\n",
    "plt.imshow(trainer.model.pos_emb.detach().cpu())\n",
    "plt.xlabel('Emb Dim')\n",
    "plt.ylabel('Position')"
   ]
  },
  {
   "cell_type": "code",
   "execution_count": null,
   "id": "little-equivalent",
   "metadata": {},
   "outputs": [],
   "source": []
  }
 ],
 "metadata": {
  "kernelspec": {
   "display_name": "tldl",
   "language": "python",
   "name": "tldl"
  },
  "language_info": {
   "codemirror_mode": {
    "name": "ipython",
    "version": 3
   },
   "file_extension": ".py",
   "mimetype": "text/x-python",
   "name": "python",
   "nbconvert_exporter": "python",
   "pygments_lexer": "ipython3",
   "version": "3.8.10"
  }
 },
 "nbformat": 4,
 "nbformat_minor": 5
}
